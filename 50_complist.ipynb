{
 "cells": [
  {
   "cell_type": "markdown",
   "metadata": {
    "colab_type": "text",
    "id": "view-in-github"
   },
   "source": [
    "<a href=\"https://colab.research.google.com/github/Gail529/Machine-Learning-/blob/master/50_complist.ipynb\" target=\"_parent\"><img src=\"https://colab.research.google.com/assets/colab-badge.svg\" alt=\"Open In Colab\"/></a>"
   ]
  },
  {
   "cell_type": "code",
   "execution_count": null,
   "metadata": {
    "colab": {
     "base_uri": "https://localhost:8080/",
     "height": 223
    },
    "id": "zO8qWTHi3mXT",
    "outputId": "afe6061c-8718-40cd-e4cc-75f4364c0a69"
   },
   "outputs": [],
   "source": [
    "# import numpy as nm  \n",
    "# import matplotlib.pyplot as mtp  \n",
    "# import pandas as pd \n",
    " \n",
    " \n",
    "# data_set= pd.read_csv('50_CompList.csv')  \n",
    " \n",
    "# x= data_set.iloc[:, :-1].values  \n",
    "# y= data_set.iloc[:, 4].values  \n",
    " \n",
    " \n",
    "# #Categorical data  \n",
    "# from sklearn.preprocessing import LabelEncoder, OneHotEncoder\n",
    "# labelencoder_x= LabelEncoder() \n",
    "# x[:, 3]= labelencoder_x.fit_transform(x[:,3])\n",
    "# onehotencoder= OneHotEncoder(categorical_features=[3])#argument is outdated\n",
    "# x= onehotencoder.fit_transform(x).toarray()  \n",
    " \n",
    " \n",
    "# x = x[:, 1:]  \n",
    " \n",
    " \n",
    "# # Splitting the dataset into training and test set.  \n",
    "# from sklearn.model_selection import train_test_split  \n",
    "# x_train, x_test, y_train, y_test= train_test_split(x, y, test_size= 0.2, random_state=0)  \n",
    " \n",
    " \n",
    "# #Fitting the MLR model to the training set:  \n",
    "# from sklearn.linear_model import LinearRegression  \n",
    "# regressor= LinearRegression()  \n",
    "# regressor.fit(x_train, y_train)  \n",
    " \n",
    "# y_pred= regressor.predict(x_test)  \n",
    " \n",
    "# print('Train Score: ', regressor.score(x_train, y_train))  \n",
    "# print('Test Score: ', regressor.score(x_test, y_test))"
   ]
  },
  {
   "cell_type": "code",
   "execution_count": 2,
   "metadata": {
    "colab": {
     "base_uri": "https://localhost:8080/"
    },
    "id": "HxhAAxTBxMgZ",
    "outputId": "0eed9cb4-72d1-4fd7-981e-08ec8e4ad03d"
   },
   "outputs": [
    {
     "name": "stdout",
     "output_type": "stream",
     "text": [
      "Train Score:  0.9501847627493607\n",
      "Test Score:  0.9347068473282303\n"
     ]
    }
   ],
   "source": [
    "import numpy as nm  \r\n",
    "import matplotlib.pyplot as mtp  \r\n",
    "import pandas as pd \r\n",
    " \r\n",
    "data_set= pd.read_csv('50_CompList.csv')  \r\n",
    "data_set.head(2)\r\n",
    "\r\n",
    "x= data_set.iloc[:, :-1].values  \r\n",
    "y= data_set.iloc[:, 4].values  \r\n",
    " \r\n",
    "#Categorical data  \r\n",
    "from sklearn.preprocessing import LabelEncoder, OneHotEncoder \r\n",
    "#Encode State Column\r\n",
    "labelencoder_x = LabelEncoder()\r\n",
    "x[:,3] = labelencoder_x.fit_transform(x[:,3])\r\n",
    "from sklearn.compose import ColumnTransformer\r\n",
    "ct = ColumnTransformer([(\"State\", OneHotEncoder(), [3])], remainder = 'passthrough')\r\n",
    "x = ct.fit_transform(x)\r\n",
    " \r\n",
    "# Splitting the dataset into training and test set.  \r\n",
    "from sklearn.model_selection import train_test_split  \r\n",
    "x_train, x_test, y_train, y_test= train_test_split(x, y, test_size= 0.2, random_state=0)  \r\n",
    " \r\n",
    " \r\n",
    "#Fitting the MLR model to the training set:  \r\n",
    "from sklearn.linear_model import LinearRegression  \r\n",
    "regressor= LinearRegression()  \r\n",
    "regressor.fit(x_train, y_train)  \r\n",
    " \r\n",
    "y_pred= regressor.predict(x_test)  \r\n",
    " \r\n",
    "print('Train Score: ', regressor.score(x_train, y_train))  \r\n",
    "print('Test Score: ', regressor.score(x_test, y_test))"
   ]
  },
  {
   "cell_type": "code",
   "execution_count": 3,
   "metadata": {
    "colab": {
     "base_uri": "https://localhost:8080/",
     "height": 191
    },
    "id": "SzoFF4a55aZv",
    "outputId": "31817068-c076-452b-8846-400d5682836b"
   },
   "outputs": [
    {
     "data": {
      "text/html": [
       "<div>\n",
       "<style scoped>\n",
       "    .dataframe tbody tr th:only-of-type {\n",
       "        vertical-align: middle;\n",
       "    }\n",
       "\n",
       "    .dataframe tbody tr th {\n",
       "        vertical-align: top;\n",
       "    }\n",
       "\n",
       "    .dataframe thead th {\n",
       "        text-align: right;\n",
       "    }\n",
       "</style>\n",
       "<table border=\"1\" class=\"dataframe\">\n",
       "  <thead>\n",
       "    <tr style=\"text-align: right;\">\n",
       "      <th></th>\n",
       "      <th>R&amp;D Spend</th>\n",
       "      <th>Administration</th>\n",
       "      <th>Marketing Spend</th>\n",
       "      <th>State</th>\n",
       "      <th>Profit</th>\n",
       "    </tr>\n",
       "  </thead>\n",
       "  <tbody>\n",
       "    <tr>\n",
       "      <th>0</th>\n",
       "      <td>165349.20</td>\n",
       "      <td>136897.80</td>\n",
       "      <td>471784.10</td>\n",
       "      <td>New York</td>\n",
       "      <td>192261.83</td>\n",
       "    </tr>\n",
       "    <tr>\n",
       "      <th>1</th>\n",
       "      <td>162597.70</td>\n",
       "      <td>151377.59</td>\n",
       "      <td>443898.53</td>\n",
       "      <td>California</td>\n",
       "      <td>191792.06</td>\n",
       "    </tr>\n",
       "    <tr>\n",
       "      <th>2</th>\n",
       "      <td>153441.51</td>\n",
       "      <td>101145.55</td>\n",
       "      <td>407934.54</td>\n",
       "      <td>Florida</td>\n",
       "      <td>191050.39</td>\n",
       "    </tr>\n",
       "    <tr>\n",
       "      <th>3</th>\n",
       "      <td>144372.41</td>\n",
       "      <td>118671.85</td>\n",
       "      <td>383199.62</td>\n",
       "      <td>New York</td>\n",
       "      <td>182901.99</td>\n",
       "    </tr>\n",
       "    <tr>\n",
       "      <th>4</th>\n",
       "      <td>142107.34</td>\n",
       "      <td>91391.77</td>\n",
       "      <td>366168.42</td>\n",
       "      <td>Florida</td>\n",
       "      <td>166187.94</td>\n",
       "    </tr>\n",
       "  </tbody>\n",
       "</table>\n",
       "</div>"
      ],
      "text/plain": [
       "   R&D Spend  Administration  Marketing Spend       State     Profit\n",
       "0  165349.20       136897.80        471784.10    New York  192261.83\n",
       "1  162597.70       151377.59        443898.53  California  191792.06\n",
       "2  153441.51       101145.55        407934.54     Florida  191050.39\n",
       "3  144372.41       118671.85        383199.62    New York  182901.99\n",
       "4  142107.34        91391.77        366168.42     Florida  166187.94"
      ]
     },
     "execution_count": 3,
     "metadata": {},
     "output_type": "execute_result"
    }
   ],
   "source": [
    "data_set= pd.read_csv('50_CompList.csv')  \n",
    "data_set.head()"
   ]
  }
 ],
 "metadata": {
  "colab": {
   "authorship_tag": "ABX9TyOdea8KjJq2uvP9CVVSm2k1",
   "include_colab_link": true,
   "name": "50_complist.ipynb",
   "provenance": []
  },
  "kernelspec": {
   "display_name": "Python 3",
   "language": "python",
   "name": "python3"
  },
  "language_info": {
   "codemirror_mode": {
    "name": "ipython",
    "version": 3
   },
   "file_extension": ".py",
   "mimetype": "text/x-python",
   "name": "python",
   "nbconvert_exporter": "python",
   "pygments_lexer": "ipython3",
   "version": "3.7.7"
  }
 },
 "nbformat": 4,
 "nbformat_minor": 4
}
